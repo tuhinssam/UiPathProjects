{
 "cells": [
  {
   "cell_type": "markdown",
   "metadata": {},
   "source": [
    "## Import Json and Requests package"
   ]
  },
  {
   "cell_type": "code",
   "execution_count": 31,
   "metadata": {},
   "outputs": [],
   "source": [
    "import json\n",
    "import requests"
   ]
  },
  {
   "cell_type": "markdown",
   "metadata": {},
   "source": [
    "## Define UserData"
   ]
  },
  {
   "cell_type": "code",
   "execution_count": 32,
   "metadata": {},
   "outputs": [],
   "source": [
    "user_data = \"\"\"{\n",
    "    \"tenancyName\": \"default\",\n",
    "    \"usernameOrEmailAddress\": \"admin\",\n",
    "    \"password\": \"December#2018\"\n",
    "    }\"\"\""
   ]
  },
  {
   "cell_type": "code",
   "execution_count": 33,
   "metadata": {},
   "outputs": [],
   "source": [
    "orchestrator_url = f\"http://172.95.1.77\""
   ]
  },
  {
   "cell_type": "markdown",
   "metadata": {},
   "source": [
    "## Get bearer token based on user data"
   ]
  },
  {
   "cell_type": "code",
   "execution_count": 34,
   "metadata": {},
   "outputs": [],
   "source": [
    "def getUserToken(user_data):\n",
    "    url = orchestrator_url + f\"/api/Account/Authenticate\"\n",
    "    data = requests.post(url,json=json.loads(user_data))\n",
    "    authentication_data = json.loads(data.text)\n",
    "    token = \"Bearer \" + str(authentication_data[\"result\"])\n",
    "    return token"
   ]
  },
  {
   "cell_type": "code",
   "execution_count": 35,
   "metadata": {},
   "outputs": [
    {
     "data": {
      "text/plain": [
       "'Bearer G8PvkpHpuwFFLEtX9Es3OG9XZGatqV8JJPMBbR-DYk3kl2nf3aCsgsaNDGB_nV804yGbFa-5EwJsJOe7gEoGHkHt2-awwcPKXu_43L93DsJkBGWYLZoia-LucGY6rFFXYdXiIwS8ixuwsPyqzzi8z7QvlqfC8rhc4Yp6uR9cUs2ErKhOG67dDwpVLvCI5Z4plkPyH2ZaXUabOY-ZZ9ttj2zMjR9S7loXlfVLJhXAzGGQ-CLeBkQCW0eg39G-ldsW5Y15ygsan3QtwL5RxMfkwMiXE4wrWewJxVn0IaMEyGIHc_iKb-_BP2IHlv4Z1d6n7AWc5i1TM8yx_qVSLe_udqQISEm40-UoaSw4SLz95YDoimPnXWOg62NiGFEjDZxPp10XQW4AgcxD2NbhpZeLn6PNVajnD1envE1N0JBEM-B8jLwkEYN1o0EUe9bAd3Nwo8g6oRGKR476jYvYNh0n__iNSs_4DnHt7uPCrYsJlXGCQWDNsxkVbHSft_XqZbi3egAl0OtfUs40imAtZQ5BVgrH0j0'"
      ]
     },
     "execution_count": 35,
     "metadata": {},
     "output_type": "execute_result"
    }
   ],
   "source": [
    "token = getUserToken(user_data)\n",
    "token"
   ]
  },
  {
   "cell_type": "markdown",
   "metadata": {},
   "source": [
    "## Get ProcessID from ProcessName and bearer token"
   ]
  },
  {
   "cell_type": "code",
   "execution_count": 36,
   "metadata": {},
   "outputs": [],
   "source": [
    "def getProcessID(process_name,token):\n",
    "    url = orchestrator_url + f\"/odata/Releases?$filter=ProcessKey+eq%20'{process_name}'\"\n",
    "    url\n",
    "    process_data = requests.get(orchestrator_url + f\"/odata/Releases?$filter=ProcessKey+eq%20'{process_name}'\",\n",
    "                                headers={\"Authorization\": token})\n",
    "    process_json = json.loads(process_data.text)\n",
    "    process_ID = process_json[\"value\"][0][\"Key\"]\n",
    "    return process_ID"
   ]
  },
  {
   "cell_type": "code",
   "execution_count": 37,
   "metadata": {},
   "outputs": [
    {
     "data": {
      "text/plain": [
       "'f74d6ac6-525a-495f-bd4b-1e0ef0b78d6c'"
      ]
     },
     "execution_count": 37,
     "metadata": {},
     "output_type": "execute_result"
    }
   ],
   "source": [
    "process_ID = getProcessID(\"TestPublish\",token)\n",
    "process_ID"
   ]
  },
  {
   "cell_type": "markdown",
   "metadata": {},
   "source": [
    "## Get RobotID from RobotName and bearer token"
   ]
  },
  {
   "cell_type": "code",
   "execution_count": 38,
   "metadata": {},
   "outputs": [],
   "source": [
    "def getRobotID(robotName, token):\n",
    "    robot_name = requests.get(orchestrator_url + f\"/odata/Robots?$filter=Name%20eq%20'{robotName}'\",\n",
    "                              headers={\"Authorization\": token})\n",
    "    url = orchestrator_url + f\"/odata/Robots?$filter=Name%20eq%20'{robotName}'\"\n",
    "    print(url)\n",
    "    robot_json_obj = json.loads(robot_name.text)\n",
    "    robot_ID = robot_json_obj[\"value\"][0][\"Id\"]\n",
    "    return robot_ID"
   ]
  },
  {
   "cell_type": "code",
   "execution_count": 39,
   "metadata": {},
   "outputs": [
    {
     "name": "stdout",
     "output_type": "stream",
     "text": [
      "http://172.95.1.77/odata/Robots?$filter=Name%20eq%20'MadRobo'\n"
     ]
    },
    {
     "data": {
      "text/plain": [
       "2"
      ]
     },
     "execution_count": 39,
     "metadata": {},
     "output_type": "execute_result"
    }
   ],
   "source": [
    "robot_ID = getRobotID(\"MadRobo\", token)\n",
    "robot_ID"
   ]
  },
  {
   "cell_type": "markdown",
   "metadata": {},
   "source": [
    "## Run Job using ProcessID, RobotID and BearerToken"
   ]
  },
  {
   "cell_type": "code",
   "execution_count": 146,
   "metadata": {},
   "outputs": [],
   "source": [
    "def runJob(process_ID, robot_ID, token):\n",
    "    start_job_json = \"\"\"{ \"startInfo\":\n",
    "       { \"ReleaseKey\": \\\"\"\"\" + process_ID + \"\"\"\\\",\n",
    "         \"Strategy\": \"Specific\",\n",
    "         \"RobotIds\": [ \"\"\" + str(robot_ID) + \"\"\" ],\n",
    "         \"Source\": \"Manual\",\n",
    "         \"InputArguments\": \"{'in_Arg1':'Aloha'}\"        \n",
    "       } \n",
    "    }\"\"\"  # InputArguments should be left {} or not included if workflow does not accept any input\n",
    "    start_job_data = requests.post(orchestrator_url + f\"/odata/Jobs/UiPath.Server.Configuration.OData.StartJobs\",\n",
    "                                   json=json.loads(start_job_json), headers={\"Authorization\": token})\n",
    "    return start_job_data"
   ]
  },
  {
   "cell_type": "code",
   "execution_count": 147,
   "metadata": {},
   "outputs": [
    {
     "data": {
      "text/plain": [
       "<Response [201]>"
      ]
     },
     "execution_count": 147,
     "metadata": {},
     "output_type": "execute_result"
    }
   ],
   "source": [
    "response_code = runJob(process_ID, robot_ID, token)\n",
    "response_code"
   ]
  },
  {
   "cell_type": "markdown",
   "metadata": {},
   "source": [
    "### Response code 201 donotes Job run is successful"
   ]
  }
 ],
 "metadata": {
  "kernelspec": {
   "display_name": "Python 3",
   "language": "python",
   "name": "python3"
  },
  "language_info": {
   "codemirror_mode": {
    "name": "ipython",
    "version": 3
   },
   "file_extension": ".py",
   "mimetype": "text/x-python",
   "name": "python",
   "nbconvert_exporter": "python",
   "pygments_lexer": "ipython3",
   "version": "3.7.1"
  }
 },
 "nbformat": 4,
 "nbformat_minor": 2
}
